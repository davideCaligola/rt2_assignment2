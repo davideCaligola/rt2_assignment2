{
 "cells": [
  {
   "cell_type": "markdown",
   "metadata": {},
   "source": [
    "Requirement for ROS environment"
   ]
  },
  {
   "cell_type": "code",
   "execution_count": 1,
   "metadata": {
    "ExecuteTime": {
     "end_time": "2024-02-23T15:21:25.241277Z",
     "start_time": "2024-02-23T15:21:24.790034Z"
    }
   },
   "outputs": [],
   "source": [
    "import rospy\n",
    "import assignment_2_2022.msg\n",
    "from nav_msgs.msg import Odometry\n",
    "#from rt2_ass2.srv import *\n",
    "import math\n",
    "import numpy as np\n",
    "import actionlib\n",
    "from actionlib_msgs.msg import GoalStatusArray, GoalStatus\n",
    "import matplotlib.pyplot as plt\n",
    "from matplotlib.animation import FuncAnimation\n",
    "from functools import partial\n",
    "from sensor_msgs.msg import LaserScan\n",
    "\n",
    "%matplotlib widget"
   ]
  },
  {
   "cell_type": "markdown",
   "metadata": {},
   "source": [
    "Simple User Interface definition"
   ]
  },
  {
   "cell_type": "code",
   "execution_count": 2,
   "metadata": {
    "ExecuteTime": {
     "end_time": "2024-02-23T15:21:25.292773Z",
     "start_time": "2024-02-23T15:21:25.243723Z"
    }
   },
   "outputs": [],
   "source": [
    "from ipywidgets import Button, FloatText, Box, VBox, Layout, Label\n",
    "\n",
    "x_in = FloatText(\n",
    "    value=0.0,\n",
    "    description='x_target',\n",
    "    disabled=False,\n",
    "    layout=Layout(width='150px')\n",
    ")\n",
    "y_in = FloatText(\n",
    "    value=1.0,\n",
    "    description='y_target',\n",
    "    disabled=False,\n",
    "    layout=Layout(width='150px')\n",
    ")\n",
    "send_goal_btn = Button(\n",
    "    description='Send Goal',\n",
    "    disabled = False,\n",
    ")\n",
    "cancel_goal_btn = Button(\n",
    "    description='Cancel Goal',\n",
    "    disabled = False,\n",
    ")\n",
    "stop_animation_btn = Button(\n",
    "    description='Stop animation',\n",
    "    disabled = False,\n",
    ")\n",
    "start_animation_btn = Button(\n",
    "    description='Start animation',\n",
    "    disabled = False,\n",
    ")\n",
    "min_distance_txt = Label(\n",
    "        value='minimum distance: XX',\n",
    "        layout=Layout(\n",
    "            width='150px',\n",
    "            margin='5px 0px 0px 20px')\n",
    ")\n",
    "status_txt = Label(\n",
    "    value='status: idle',\n",
    "    layout=Layout(margin='6px 0px 0px 0px')\n",
    ")\n",
    "\n",
    "ui_box = Box(\n",
    "    children=[\n",
    "        VBox([x_in, y_in, min_distance_txt],\n",
    "            layout=Layout(margin='10px 0px 10px 0px')\n",
    "        ),\n",
    "        VBox([send_goal_btn, cancel_goal_btn, status_txt],\n",
    "            layout=Layout(margin='10px 0px 10px 0px')\n",
    "        ),\n",
    "        VBox([start_animation_btn, stop_animation_btn],\n",
    "            layout=Layout(margin='10px 0px 10px 0px')\n",
    "        )\n",
    "    ],\n",
    "    layout=Layout(\n",
    "        border=\"solid\",\n",
    "        padding='0px',\n",
    "        width = '500px'\n",
    "        )\n",
    ")"
   ]
  },
  {
   "cell_type": "markdown",
   "metadata": {},
   "source": [
    "Class to visualize the reached and cancelled goals in a bar chart"
   ]
  },
  {
   "cell_type": "code",
   "execution_count": 3,
   "metadata": {
    "ExecuteTime": {
     "end_time": "2024-02-23T15:21:25.300937Z",
     "start_time": "2024-02-23T15:21:25.294023Z"
    }
   },
   "outputs": [],
   "source": [
    "class Vis_goal_stat():\n",
    "    def __init__(self):\n",
    "        self.fig = plt.figure()\n",
    "        self.x = ['success','cancelled']\n",
    "        self.y = [0,0]\n",
    "        plt.ylim(0,10)\n",
    "        plt.title('Goal statistics')\n",
    "        self.barcollection = plt.bar(self.x,self.y, color=['green','red'])\n",
    "\n",
    "    def update_plot(self, frames, goals):\n",
    "        y = [len(goals['success']), len(goals['cancelled'])]\n",
    "        for i,b in enumerate(self.barcollection):\n",
    "            b.set_height(y[i])"
   ]
  },
  {
   "cell_type": "markdown",
   "metadata": {},
   "source": [
    "Class to visualize the robot position and the target goals"
   ]
  },
  {
   "cell_type": "code",
   "execution_count": 4,
   "metadata": {
    "ExecuteTime": {
     "end_time": "2024-02-23T15:21:25.312902Z",
     "start_time": "2024-02-23T15:21:25.302744Z"
    }
   },
   "outputs": [],
   "source": [
    "class Vis_robotPos():\n",
    "    def __init__(self):\n",
    "        self.fig, self.ax = plt.subplots()\n",
    "        self.robot_pos_plt, = plt.plot([],[],'b-')\n",
    "        self.robot_pos_x, self.robot_pos_y = [],[]\n",
    "    \n",
    "    def plot_init(self):\n",
    "        self.ax.set_xlim(-10, 10)\n",
    "        self.ax.set_ylim(-10, 10)\n",
    "        self.ax.set_title(\"Robot and goals positions\")\n",
    "        return self.robot_pos_plt\n",
    "    \n",
    "    def odom_callback(self, odom: Odometry):\n",
    "        # queue new robot position\n",
    "        self.robot_pos_x.append(odom.pose.pose.position.x)\n",
    "        self.robot_pos_y.append(odom.pose.pose.position.y)\n",
    "\n",
    "    def plot_goals(self, goals):\n",
    "        \n",
    "        goal_success_x = [g[0] for g in goals['success']]\n",
    "        goal_success_y = [g[1] for g in goals['success']]\n",
    "        goal_cancelled_x = [g[0] for g in goals['cancelled']]\n",
    "        goal_cancelled_y = [g[1] for g in goals['cancelled']]\n",
    "        goal_current_x = [g[0] for g in goals['current']]\n",
    "        goal_current_y = [g[1] for g in goals['current']]\n",
    "        # plot cancelled goals\n",
    "        self.ax.plot(goal_cancelled_x, goal_cancelled_y, 'ro')\n",
    "        # plot reached goals\n",
    "        self.ax.plot(goal_success_x, goal_success_y, 'go')\n",
    "        # plot current goal\n",
    "        self.ax.plot(goal_current_x, goal_current_y, 'co')\n",
    "\n",
    "    def update_robot_plot(self, frames, goals):\n",
    "        self.robot_pos_plt.set_data(self.robot_pos_x, self.robot_pos_y)\n",
    "        self.plot_goals(goals)\n",
    "        return self.robot_pos_plt,\n"
   ]
  },
  {
   "cell_type": "markdown",
   "metadata": {},
   "source": [
    "Class to visualize the laser scan data"
   ]
  },
  {
   "cell_type": "code",
   "execution_count": 5,
   "metadata": {
    "ExecuteTime": {
     "end_time": "2024-02-23T15:21:25.320807Z",
     "start_time": "2024-02-23T15:21:25.314332Z"
    }
   },
   "outputs": [],
   "source": [
    "class Vis_laserScan():\n",
    "    def __init__(self):\n",
    "        self.fig, self.ax = plt.subplots()\n",
    "        self.laser_plt, = plt.plot([],[],'r.')\n",
    "        self.laser_ranges, self.laser_angles = [], []\n",
    "        \n",
    "    def plot_init(self):\n",
    "        self.ax.set_xlim(-10, 10)\n",
    "        self.ax.set_ylim(-10, 10)\n",
    "        self.ax.set_title(\"Laser scan\")\n",
    "        return self.laser_plt\n",
    "    \n",
    "    def laser_scan_callback(self, data: LaserScan):\n",
    "        angle_increment = data.angle_increment\n",
    "        self.laser_angles = [data.angle_min + i * angle_increment for i in range(len(data.ranges))]\n",
    "        self.laser_ranges = data.ranges\n",
    "    \n",
    "    def update_laser_plot(self, frame):\n",
    "        # update min distance label\n",
    "        min_distance_txt.value = f'min distance: {min(self.laser_ranges):.2f}m'\n",
    "        laser_x = [r * np.cos(theta) for r, theta in zip(self.laser_ranges, self.laser_angles)]\n",
    "        laser_y = [r * np.sin(theta) for r, theta in zip(self.laser_ranges, self.laser_angles)]\n",
    "        self.laser_plt.set_data(laser_x, laser_y)\n",
    "        self.ax.plot([0],[0],'b*')\n",
    "        return self.laser_plt,\n",
    "        "
   ]
  },
  {
   "cell_type": "markdown",
   "metadata": {},
   "source": [
    "Class to handle goals, such as request to reach a goal, cancel a goal"
   ]
  },
  {
   "cell_type": "code",
   "execution_count": 6,
   "metadata": {
    "ExecuteTime": {
     "end_time": "2024-02-23T15:21:25.333883Z",
     "start_time": "2024-02-23T15:21:25.323975Z"
    }
   },
   "outputs": [],
   "source": [
    "class GoalManager:\n",
    "    def __init__(self):\n",
    "        self.goal_position = None\n",
    "        self.goal_counter = {\n",
    "            'success': [],\n",
    "            'cancelled': [],\n",
    "            'current':[]\n",
    "        }\n",
    "\n",
    "        # create simple action client to send goal\n",
    "        self.goal_action_client = actionlib.SimpleActionClient(\"/reaching_goal\", assignment_2_2022.msg.PlanningAction)\n",
    "\n",
    "        # wait for action server\n",
    "        rospy.loginfo(\"waiting for server /reaching_goal...\")\n",
    "        self.goal_action_client.wait_for_server()\n",
    "        rospy.loginfo(\"Server /reaching_goal available\")\n",
    " \n",
    "\n",
    "    def get_goal_counter(self):\n",
    "        return self.goal_counter\n",
    "\n",
    "\n",
    "    def reset_goal_counter(self):\n",
    "        self.goal_counter['success'] = []\n",
    "        self.goal_counter['cancelled'] = []\n",
    "\n",
    "\n",
    "    def set_goal(self, x: float, y: float):\n",
    "        if self.goal_position == None:\n",
    "            self.goal_position = assignment_2_2022.msg.PlanningActionGoal().goal\n",
    "        \n",
    "        self.goal_position.target_pose.pose.position.x = x\n",
    "        self.goal_position.target_pose.pose.position.y = y\n",
    "        \n",
    "        # update current goal for ui\n",
    "        self.goal_counter['current'].append([x,y])\n",
    "\n",
    "        # update status for ui\n",
    "        status_txt.value = 'status: goal set'\n",
    "\n",
    "\n",
    "    def get_current_goal(self):\n",
    "        return [self.goal_position.target_pose.pose.position.x, self.goal_position.target_pose.pose.position.y] if self.goal_position else None\n",
    "\n",
    "\n",
    "    def goal_done_cb(self, goal_status: GoalStatusArray, result):\n",
    "        #print(\"goal completed\")\n",
    "        if (goal_status == GoalStatus.PREEMPTED):\n",
    "            # update status description\n",
    "            status_txt.value ='status: goal cancelled!'\n",
    "            # increase cancelled counter\n",
    "            self.goal_counter['cancelled'].append([\n",
    "                self.goal_position.target_pose.pose.position.x,\n",
    "                self.goal_position.target_pose.pose.position.y\n",
    "            ])\n",
    "        elif (goal_status == GoalStatus.SUCCEEDED):\n",
    "            # update status description\n",
    "            status_txt.value = 'status: goal reached!'\n",
    "            # increase success counter\n",
    "            self.goal_counter['success'].append([\n",
    "                self.goal_position.target_pose.pose.position.x,\n",
    "                self.goal_position.target_pose.pose.position.y\n",
    "            ])\n",
    "        else:\n",
    "            status_txt.value =f'unknown goal status: {goal_status}'\n",
    "        \n",
    "        # update current goal for ui\n",
    "        self.goal_counter['current'] = []\n",
    "\n",
    "\n",
    "    def goal_active_cb(self):\n",
    "        status_txt.value = 'status: reaching target...'\n",
    "\n",
    "\n",
    "    def send_goal_request(self):\n",
    "        # send goal request\n",
    "        self.goal_action_client.send_goal(\n",
    "            self.goal_position,\n",
    "            done_cb=self.goal_done_cb,\n",
    "            active_cb=self.goal_active_cb\n",
    "        )\n",
    "\n",
    "\n",
    "    def cancel_goal(self):\n",
    "        # send request to cancel current goal\n",
    "        self.goal_action_client.cancel_goal()\n",
    "        #print(\"goal cancelled\")\n",
    "        "
   ]
  },
  {
   "cell_type": "markdown",
   "metadata": {},
   "source": [
    "Class controller, simple class to send commands to the robot in the environment"
   ]
  },
  {
   "cell_type": "code",
   "execution_count": 7,
   "metadata": {
    "ExecuteTime": {
     "end_time": "2024-02-23T15:21:25.346251Z",
     "start_time": "2024-02-23T15:21:25.335166Z"
    }
   },
   "outputs": [],
   "source": [
    "class Controller:\n",
    "    def __init__(self):\n",
    "        rospy.init_node(\"controller\", anonymous=True)\n",
    "\n",
    "        # create GoalManager\n",
    "        self.goal_manager = GoalManager()\n",
    "        \n",
    "        # symmetric coordinate limits in absolute value \n",
    "        self.x_lim = 8\n",
    "        self.y_lim = 8\n",
    "\n",
    "        # default goal\n",
    "        self.goal_position = None\n",
    "\n",
    "        # robot current position\n",
    "        self.robot_x = None\n",
    "        self.robot_y = None\n",
    "\n",
    "        self.goalManager = GoalManager()\n",
    "\n",
    "        # robot and goal positions visualization\n",
    "        self.vis_robot_pos = Vis_robotPos()\n",
    "        \n",
    "        # create subscriber for /odom\n",
    "        odom_sub = rospy.Subscriber(\"/odom\", Odometry, callback=self.vis_robot_pos.odom_callback)\n",
    "        \n",
    "        # run robot position animation\n",
    "        self.ani_robot_pos = FuncAnimation(\n",
    "                                self.vis_robot_pos.fig,\n",
    "                                partial(self.vis_robot_pos.update_robot_plot,\n",
    "                                        goals=self.goal_manager.get_goal_counter()),\n",
    "                                init_func=self.vis_robot_pos.plot_init,\n",
    "                                interval=200,\n",
    "                                blit=True\n",
    "                            )\n",
    "        \n",
    "        # laser visualization\n",
    "        self.vis_laserscan = Vis_laserScan()\n",
    "        \n",
    "        # create subscriber for laser scan data\n",
    "        laserscan_sub = rospy.Subscriber(\"/scan\", LaserScan, self.vis_laserscan.laser_scan_callback)\n",
    "        \n",
    "        # run laserscan animation\n",
    "        self.ani_laserscan = FuncAnimation(\n",
    "                                self.vis_laserscan.fig,\n",
    "                                self.vis_laserscan.update_laser_plot,\n",
    "                                init_func=self.vis_laserscan.plot_init,\n",
    "                                interval=200,\n",
    "                                blit=True\n",
    "                            )\n",
    "\n",
    "        # goal statistics visualization\n",
    "        self.vis_goalstat = Vis_goal_stat()\n",
    "        self.ani_goalstat = FuncAnimation(\n",
    "                                self.vis_goalstat.fig,\n",
    "                                partial(self.vis_goalstat.update_plot,\n",
    "                                        goals=self.goal_manager.get_goal_counter()),\n",
    "                                repeat=False,\n",
    "                                blit=False,\n",
    "                                interval=500\n",
    "                            )\n",
    "\n",
    "    def stop_animations(self):\n",
    "        self.ani_robot_pos.event_source.stop()\n",
    "        self.ani_laserscan.event_source.stop()\n",
    "        self.ani_goalstat.event_source.stop()\n",
    "        \n",
    "    def start_animations(self):\n",
    "        self.ani_robot_pos.event_source.start()\n",
    "        self.ani_laserscan.event_source.start()\n",
    "        self.ani_goalstat.event_source.start()\n",
    "    \n",
    "\n",
    "    def saturate_input(self, x, limit):\n",
    "        if (abs(x) > limit):\n",
    "            return  math.copysign(limit, x)\n",
    "        else:\n",
    "            return x\n",
    "    \n",
    "    # Goal management functions\n",
    "    def set_goal(self, x:float, y:float):\n",
    "        self.goal_manager.set_goal(\n",
    "            self.saturate_input(x, self.x_lim),\n",
    "            self.saturate_input(y, self.y_lim)\n",
    "        )\n",
    "\n",
    "    def send_goal_request(self):\n",
    "        self.goal_manager.send_goal_request()\n",
    "\n",
    "    def cancel_goal(self):\n",
    "        self.goal_manager.cancel_goal()\n",
    "\n",
    "    def get_goal_counter(self):\n",
    "        return self.goal_manager.get_goal_counter()\n",
    "\n",
    "    def shutdown(self):\n",
    "        self.stop_animations()\n",
    "        rospy.signal_shutdown(\"User shutdown request\")\n"
   ]
  },
  {
   "cell_type": "markdown",
   "metadata": {},
   "source": [
    "User Interface button callback functions"
   ]
  },
  {
   "cell_type": "code",
   "execution_count": 8,
   "metadata": {
    "ExecuteTime": {
     "end_time": "2024-02-23T15:21:25.351810Z",
     "start_time": "2024-02-23T15:21:25.347475Z"
    }
   },
   "outputs": [],
   "source": [
    "def send_goal_btn_callback(btn):\n",
    "    controller.set_goal(float(x_in.value), float(y_in.value))\n",
    "    controller.send_goal_request()\n",
    "\n",
    "send_goal_btn.on_click(send_goal_btn_callback)\n",
    "\n",
    "def cancel_goal_btn_callback(btn):\n",
    "    controller.cancel_goal()\n",
    "\n",
    "cancel_goal_btn.on_click(cancel_goal_btn_callback)\n",
    "\n",
    "def start_animation_btn_callback(btn):\n",
    "    controller.start_animations()\n",
    "\n",
    "start_animation_btn.on_click(start_animation_btn_callback)\n",
    "\n",
    "def stop_animation_btn_callback(btn):\n",
    "    controller.stop_animations()\n",
    "\n",
    "stop_animation_btn.on_click(stop_animation_btn_callback)"
   ]
  },
  {
   "cell_type": "markdown",
   "metadata": {},
   "source": [
    "Instantiate Controller and Display User Interface"
   ]
  },
  {
   "cell_type": "code",
   "execution_count": 9,
   "metadata": {
    "ExecuteTime": {
     "end_time": "2024-02-23T15:21:46.922432Z",
     "start_time": "2024-02-23T15:21:46.576804Z"
    },
    "scrolled": false
   },
   "outputs": [
    {
     "name": "stdout",
     "output_type": "stream",
     "text": [
      "[INFO] [1708701706.773355, 1216.667000]: waiting for server /reaching_goal...\n",
      "[INFO] [1708701706.785816, 1216.680000]: Server /reaching_goal available\n",
      "[INFO] [1708701706.788329, 1216.682000]: waiting for server /reaching_goal...\n",
      "[INFO] [1708701706.789407, 1216.683000]: Server /reaching_goal available\n"
     ]
    },
    {
     "data": {
      "application/vnd.jupyter.widget-view+json": {
       "model_id": "f48fe962a2b8421e84ab91a2bfeb7a1b",
       "version_major": 2,
       "version_minor": 0
      },
      "text/plain": [
       "Canvas(toolbar=Toolbar(toolitems=[('Home', 'Reset original view', 'home', 'home'), ('Back', 'Back to previous …"
      ]
     },
     "metadata": {},
     "output_type": "display_data"
    },
    {
     "data": {
      "application/vnd.jupyter.widget-view+json": {
       "model_id": "5844ddeee59a47ebb6e742b5b5971431",
       "version_major": 2,
       "version_minor": 0
      },
      "text/plain": [
       "Canvas(toolbar=Toolbar(toolitems=[('Home', 'Reset original view', 'home', 'home'), ('Back', 'Back to previous …"
      ]
     },
     "metadata": {},
     "output_type": "display_data"
    },
    {
     "data": {
      "application/vnd.jupyter.widget-view+json": {
       "model_id": "dea61cfa3d8e4df0b50c44619b6fcf71",
       "version_major": 2,
       "version_minor": 0
      },
      "text/plain": [
       "Canvas(toolbar=Toolbar(toolitems=[('Home', 'Reset original view', 'home', 'home'), ('Back', 'Back to previous …"
      ]
     },
     "metadata": {},
     "output_type": "display_data"
    },
    {
     "data": {
      "application/vnd.jupyter.widget-view+json": {
       "model_id": "70f938d2bd5a4abca89d4de34d0bb965",
       "version_major": 2,
       "version_minor": 0
      },
      "text/plain": [
       "Box(children=(VBox(children=(FloatText(value=0.0, description='x_target', layout=Layout(width='150px')), Float…"
      ]
     },
     "metadata": {},
     "output_type": "display_data"
    }
   ],
   "source": [
    "controller = Controller()\n",
    "display(ui_box)"
   ]
  }
 ],
 "metadata": {
  "kernelspec": {
   "display_name": "Python 3 (ipykernel)",
   "language": "python",
   "name": "python3"
  },
  "language_info": {
   "codemirror_mode": {
    "name": "ipython",
    "version": 3
   },
   "file_extension": ".py",
   "mimetype": "text/x-python",
   "name": "python",
   "nbconvert_exporter": "python",
   "pygments_lexer": "ipython3",
   "version": "3.8.10"
  },
  "toc": {
   "base_numbering": 1,
   "nav_menu": {},
   "number_sections": true,
   "sideBar": true,
   "skip_h1_title": false,
   "title_cell": "Table of Contents",
   "title_sidebar": "Contents",
   "toc_cell": false,
   "toc_position": {},
   "toc_section_display": true,
   "toc_window_display": false
  },
  "varInspector": {
   "cols": {
    "lenName": 16,
    "lenType": 16,
    "lenVar": 40
   },
   "kernels_config": {
    "python": {
     "delete_cmd_postfix": "",
     "delete_cmd_prefix": "del ",
     "library": "var_list.py",
     "varRefreshCmd": "print(var_dic_list())"
    },
    "r": {
     "delete_cmd_postfix": ") ",
     "delete_cmd_prefix": "rm(",
     "library": "var_list.r",
     "varRefreshCmd": "cat(var_dic_list()) "
    }
   },
   "types_to_exclude": [
    "module",
    "function",
    "builtin_function_or_method",
    "instance",
    "_Feature"
   ],
   "window_display": false
  }
 },
 "nbformat": 4,
 "nbformat_minor": 2
}
